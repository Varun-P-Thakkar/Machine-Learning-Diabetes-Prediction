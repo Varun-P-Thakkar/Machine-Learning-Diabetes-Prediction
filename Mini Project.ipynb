{
 "cells": [
  {
   "cell_type": "code",
   "execution_count": 6,
   "metadata": {},
   "outputs": [
    {
     "data": {
      "text/html": [
       "<div>\n",
       "<style scoped>\n",
       "    .dataframe tbody tr th:only-of-type {\n",
       "        vertical-align: middle;\n",
       "    }\n",
       "\n",
       "    .dataframe tbody tr th {\n",
       "        vertical-align: top;\n",
       "    }\n",
       "\n",
       "    .dataframe thead th {\n",
       "        text-align: right;\n",
       "    }\n",
       "</style>\n",
       "<table border=\"1\" class=\"dataframe\">\n",
       "  <thead>\n",
       "    <tr style=\"text-align: right;\">\n",
       "      <th></th>\n",
       "      <th>Pregnancies</th>\n",
       "      <th>Glucose</th>\n",
       "      <th>BloodPressure</th>\n",
       "      <th>SkinThickness</th>\n",
       "      <th>Insulin</th>\n",
       "      <th>BMI</th>\n",
       "      <th>DiabetesPedigreeFunction</th>\n",
       "      <th>Age</th>\n",
       "      <th>Outcome</th>\n",
       "    </tr>\n",
       "  </thead>\n",
       "  <tbody>\n",
       "    <tr>\n",
       "      <th>0</th>\n",
       "      <td>6</td>\n",
       "      <td>148</td>\n",
       "      <td>72</td>\n",
       "      <td>35</td>\n",
       "      <td>0</td>\n",
       "      <td>33.6</td>\n",
       "      <td>0.627</td>\n",
       "      <td>50</td>\n",
       "      <td>1</td>\n",
       "    </tr>\n",
       "    <tr>\n",
       "      <th>1</th>\n",
       "      <td>1</td>\n",
       "      <td>85</td>\n",
       "      <td>66</td>\n",
       "      <td>29</td>\n",
       "      <td>0</td>\n",
       "      <td>26.6</td>\n",
       "      <td>0.351</td>\n",
       "      <td>31</td>\n",
       "      <td>0</td>\n",
       "    </tr>\n",
       "    <tr>\n",
       "      <th>2</th>\n",
       "      <td>8</td>\n",
       "      <td>183</td>\n",
       "      <td>64</td>\n",
       "      <td>0</td>\n",
       "      <td>0</td>\n",
       "      <td>23.3</td>\n",
       "      <td>0.672</td>\n",
       "      <td>32</td>\n",
       "      <td>1</td>\n",
       "    </tr>\n",
       "    <tr>\n",
       "      <th>3</th>\n",
       "      <td>1</td>\n",
       "      <td>89</td>\n",
       "      <td>66</td>\n",
       "      <td>23</td>\n",
       "      <td>94</td>\n",
       "      <td>28.1</td>\n",
       "      <td>0.167</td>\n",
       "      <td>21</td>\n",
       "      <td>0</td>\n",
       "    </tr>\n",
       "    <tr>\n",
       "      <th>4</th>\n",
       "      <td>0</td>\n",
       "      <td>137</td>\n",
       "      <td>40</td>\n",
       "      <td>35</td>\n",
       "      <td>168</td>\n",
       "      <td>43.1</td>\n",
       "      <td>2.288</td>\n",
       "      <td>33</td>\n",
       "      <td>1</td>\n",
       "    </tr>\n",
       "  </tbody>\n",
       "</table>\n",
       "</div>"
      ],
      "text/plain": [
       "   Pregnancies  Glucose  BloodPressure  SkinThickness  Insulin   BMI  \\\n",
       "0            6      148             72             35        0  33.6   \n",
       "1            1       85             66             29        0  26.6   \n",
       "2            8      183             64              0        0  23.3   \n",
       "3            1       89             66             23       94  28.1   \n",
       "4            0      137             40             35      168  43.1   \n",
       "\n",
       "   DiabetesPedigreeFunction  Age  Outcome  \n",
       "0                     0.627   50        1  \n",
       "1                     0.351   31        0  \n",
       "2                     0.672   32        1  \n",
       "3                     0.167   21        0  \n",
       "4                     2.288   33        1  "
      ]
     },
     "execution_count": 6,
     "metadata": {},
     "output_type": "execute_result"
    }
   ],
   "source": [
    "#  importing headers and database\n",
    "%matplotlib inline\n",
    "import pandas as pd\n",
    "import numpy as np\n",
    "import matplotlib.pyplot as plt\n",
    "import seaborn as sns\n",
    "accuracy={}\n",
    "diabetes = pd.read_csv('diabetes.csv')\n",
    "diabetes.head()\n",
    "\n"
   ]
  },
  {
   "cell_type": "code",
   "execution_count": 7,
   "metadata": {},
   "outputs": [],
   "source": [
    "#  Phase 1 — Data Exploration\n",
    "\n",
    "#  This step is necessary to familiarize with the data, to gain some understanding about the \n",
    "#  potential features and to see if data cleaning is needed."
   ]
  },
  {
   "cell_type": "code",
   "execution_count": 8,
   "metadata": {},
   "outputs": [
    {
     "name": "stdout",
     "output_type": "stream",
     "text": [
      "Diabetes data set dimensions : (768, 9)\n"
     ]
    }
   ],
   "source": [
    "print(\"Diabetes data set dimensions : {}\".format(diabetes.shape))"
   ]
  },
  {
   "cell_type": "code",
   "execution_count": 9,
   "metadata": {},
   "outputs": [],
   "source": [
    "# Data Visualization\n",
    "#  We can observe that the data set contain 768 rows and 9 columns. ‘Outcome’ is the column which we are going to predict , \n",
    "#  which says if the patient is diabetic or not. 1 means the person is diabetic and 0 means person is not. We can identify \n",
    "#  that out of the 768 persons, 500 are labeled as 0 (non diabetic) and 268 as 1 (diabetic)"
   ]
  },
  {
   "cell_type": "code",
   "execution_count": 10,
   "metadata": {},
   "outputs": [
    {
     "name": "stdout",
     "output_type": "stream",
     "text": [
      "<class 'pandas.core.frame.DataFrame'>\n",
      "RangeIndex: 768 entries, 0 to 767\n",
      "Data columns (total 9 columns):\n",
      "Pregnancies                 768 non-null int64\n",
      "Glucose                     768 non-null int64\n",
      "BloodPressure               768 non-null int64\n",
      "SkinThickness               768 non-null int64\n",
      "Insulin                     768 non-null int64\n",
      "BMI                         768 non-null float64\n",
      "DiabetesPedigreeFunction    768 non-null float64\n",
      "Age                         768 non-null int64\n",
      "Outcome                     768 non-null int64\n",
      "dtypes: float64(2), int64(7)\n",
      "memory usage: 54.1 KB\n"
     ]
    }
   ],
   "source": [
    "diabetes.info()"
   ]
  },
  {
   "cell_type": "code",
   "execution_count": 11,
   "metadata": {},
   "outputs": [
    {
     "name": "stdout",
     "output_type": "stream",
     "text": [
      "Outcome\n",
      "0    500\n",
      "1    268\n",
      "dtype: int64\n"
     ]
    },
    {
     "data": {
      "text/plain": [
       "<matplotlib.axes._subplots.AxesSubplot at 0x882307ce10>"
      ]
     },
     "execution_count": 11,
     "metadata": {},
     "output_type": "execute_result"
    },
    {
     "data": {
      "image/png": "[encoded data removed]",
      "text/plain": [
       "<Figure size 432x288 with 1 Axes>"
      ]
     },
     "metadata": {
      "needs_background": "light"
     },
     "output_type": "display_data"
    }
   ],
   "source": [
    "#Count of Outcome as 0 and 1 before data cleansing\n",
    "\n",
    "import seaborn as sns\n",
    "print(diabetes.groupby('Outcome').size())\n",
    "sns.countplot(diabetes['Outcome'],label=\"Count\")"
   ]
  },
  {
   "cell_type": "code",
   "execution_count": 12,
   "metadata": {},
   "outputs": [
    {
     "data": {
      "image/png": "[encoded data removed]",
      "text/plain": [
       "<Figure size 1080x720 with 9 Axes>"
      ]
     },
     "metadata": {
      "needs_background": "light"
     },
     "output_type": "display_data"
    }
   ],
   "source": [
    "#Distribution of individual features\n",
    "\n",
    "diabetes.hist(bins=30, figsize=(15,10))\n",
    "plt.show()"
   ]
  },
  {
   "cell_type": "code",
   "execution_count": 13,
   "metadata": {},
   "outputs": [],
   "source": [
    "#  Phase 2— Data Cleaning\n",
    "\n",
    "#  Next phase of the machine learning work flow is the data cleaning. Considered to be one of the crucial steps of the work\n",
    "#  flow, because it can make or break the model. There is a saying in machine learning “Better data beats fancier algorithms”,\n",
    "#  which suggests better data gives you better resulting models.\n",
    "\n",
    "#  There are several factors to consider in the data cleaning process.\n",
    "\n",
    "#  1.Duplicate or irrelevant observations.\n",
    "#  2.Bad labeling of data, same category occurring multiple times.\n",
    "#  3.Missing or null data points.\n",
    "#  4.Unexpected outliers."
   ]
  },
  {
   "cell_type": "code",
   "execution_count": 14,
   "metadata": {},
   "outputs": [],
   "source": [
    "#  Missing or Null Data points"
   ]
  },
  {
   "cell_type": "code",
   "execution_count": 15,
   "metadata": {},
   "outputs": [
    {
     "data": {
      "text/plain": [
       "Pregnancies                 0\n",
       "Glucose                     0\n",
       "BloodPressure               0\n",
       "SkinThickness               0\n",
       "Insulin                     0\n",
       "BMI                         0\n",
       "DiabetesPedigreeFunction    0\n",
       "Age                         0\n",
       "Outcome                     0\n",
       "dtype: int64"
      ]
     },
     "execution_count": 15,
     "metadata": {},
     "output_type": "execute_result"
    }
   ],
   "source": [
    "diabetes.isnull().sum()\n",
    "diabetes.isna().sum()"
   ]
  },
  {
   "cell_type": "code",
   "execution_count": 16,
   "metadata": {},
   "outputs": [],
   "source": [
    "#  Unexpected Outliers"
   ]
  },
  {
   "cell_type": "code",
   "execution_count": 17,
   "metadata": {},
   "outputs": [
    {
     "name": "stdout",
     "output_type": "stream",
     "text": [
      "Total :  35\n",
      "Outcome\n",
      "0    19\n",
      "1    16\n",
      "Name: BMI, dtype: int64\n"
     ]
    }
   ],
   "source": [
    "#  Blood pressure \n",
    "\n",
    "print(\"Total : \", diabetes[diabetes.BloodPressure == 0].shape[0])\n",
    "print(diabetes[diabetes.BloodPressure == 0].groupby('Outcome')['BMI'].count())"
   ]
  },
  {
   "cell_type": "code",
   "execution_count": 18,
   "metadata": {},
   "outputs": [
    {
     "name": "stdout",
     "output_type": "stream",
     "text": [
      "Total :  5\n",
      "Outcome\n",
      "0    3\n",
      "1    2\n",
      "Name: Age, dtype: int64\n"
     ]
    }
   ],
   "source": [
    "#  Plasma glucose levels\n",
    "\n",
    "print(\"Total : \", diabetes[diabetes.Glucose == 0].shape[0])\n",
    "print(diabetes[diabetes.Glucose == 0].groupby('Outcome')['Age'].count())"
   ]
  },
  {
   "cell_type": "code",
   "execution_count": 19,
   "metadata": {},
   "outputs": [
    {
     "name": "stdout",
     "output_type": "stream",
     "text": [
      "Total :  236\n",
      "Outcome\n",
      "0    147\n",
      "1     89\n",
      "Name: Age, dtype: int64\n"
     ]
    }
   ],
   "source": [
    "#  Skin Fold Thickness\n",
    "\n",
    "print(\"Total : \", diabetes[diabetes.SkinThickness <= 10].shape[0])\n",
    "print(diabetes[diabetes.SkinThickness <= 10].groupby('Outcome')['Age'].count())"
   ]
  },
  {
   "cell_type": "code",
   "execution_count": 20,
   "metadata": {},
   "outputs": [
    {
     "name": "stdout",
     "output_type": "stream",
     "text": [
      "Total :  11\n",
      "Outcome\n",
      "0    9\n",
      "1    2\n",
      "Name: Age, dtype: int64\n"
     ]
    }
   ],
   "source": [
    "#  BMI\n",
    "\n",
    "print(\"Total : \", diabetes[diabetes.BMI == 0].shape[0])\n",
    "print(diabetes[diabetes.BMI == 0].groupby('Outcome')['Age'].count())"
   ]
  },
  {
   "cell_type": "code",
   "execution_count": 21,
   "metadata": {},
   "outputs": [
    {
     "name": "stdout",
     "output_type": "stream",
     "text": [
      "Total :  374\n",
      "Outcome\n",
      "0    236\n",
      "1    138\n",
      "Name: Age, dtype: int64\n"
     ]
    }
   ],
   "source": [
    "#  Insulin\n",
    "\n",
    "print(\"Total : \", diabetes[diabetes.Insulin == 0].shape[0])\n",
    "print(diabetes[diabetes.Insulin == 0].groupby('Outcome')['Age'].count())"
   ]
  },
  {
   "cell_type": "code",
   "execution_count": 22,
   "metadata": {},
   "outputs": [],
   "source": [
    "#  ways to handle invalid data values (add documentation)"
   ]
  },
  {
   "cell_type": "code",
   "execution_count": 23,
   "metadata": {},
   "outputs": [
    {
     "name": "stdout",
     "output_type": "stream",
     "text": [
      "(724, 9)\n"
     ]
    },
    {
     "data": {
      "text/plain": [
       "(724, 9)"
      ]
     },
     "execution_count": 23,
     "metadata": {},
     "output_type": "execute_result"
    }
   ],
   "source": [
    "#  We will remove the rows which the “BloodPressure”, “BMI” and “Glucose” are zero.\n",
    "\n",
    "diabetes_mod = diabetes[(diabetes.BloodPressure != 0) & (diabetes.BMI != 0) & (diabetes.Glucose != 0)]\n",
    "print(diabetes_mod.shape)\n",
    "(724, 9)"
   ]
  },
  {
   "cell_type": "code",
   "execution_count": 24,
   "metadata": {},
   "outputs": [],
   "source": [
    "#  Visualization on cleaned dataset before data cleansing"
   ]
  },
  {
   "cell_type": "code",
   "execution_count": 25,
   "metadata": {},
   "outputs": [
    {
     "name": "stdout",
     "output_type": "stream",
     "text": [
      "Outcome\n",
      "0    475\n",
      "1    249\n",
      "dtype: int64\n"
     ]
    },
    {
     "data": {
      "text/plain": [
       "<matplotlib.axes._subplots.AxesSubplot at 0x8824efa470>"
      ]
     },
     "execution_count": 25,
     "metadata": {},
     "output_type": "execute_result"
    },
    {
     "data": {
      "image/png": "[encoded data removed]",
      "text/plain": [
       "<Figure size 432x288 with 1 Axes>"
      ]
     },
     "metadata": {
      "needs_background": "light"
     },
     "output_type": "display_data"
    }
   ],
   "source": [
    "print(diabetes_mod.groupby('Outcome').size())\n",
    "sns.countplot(diabetes_mod['Outcome'],label=\"Count\")"
   ]
  },
  {
   "cell_type": "code",
   "execution_count": 26,
   "metadata": {},
   "outputs": [
    {
     "data": {
      "image/png": "[encoded data removed]",
      "text/plain": [
       "<Figure size 1080x720 with 9 Axes>"
      ]
     },
     "metadata": {
      "needs_background": "light"
     },
     "output_type": "display_data"
    }
   ],
   "source": [
    "#Distribution of individual features after data cleansing\n",
    "\n",
    "diabetes_mod.hist(bins=30, figsize=(15,10))\n",
    "plt.show()"
   ]
  },
  {
   "cell_type": "code",
   "execution_count": 27,
   "metadata": {},
   "outputs": [],
   "source": [
    "#  Phase 3— Models Analysis\n",
    "\n",
    "#  first we perform KNN, Naive Bayes, Random Forest "
   ]
  },
  {
   "cell_type": "code",
   "execution_count": 28,
   "metadata": {},
   "outputs": [],
   "source": [
    "# splitting data into train data and test data\n",
    "\n",
    "from sklearn.model_selection import train_test_split\n",
    "\n",
    "X_train, X_test, y_train, y_test = train_test_split(diabetes_mod.loc[:, diabetes_mod.columns != 'Outcome'], diabetes_mod['Outcome'], stratify=diabetes_mod['Outcome'], random_state=56)\n"
   ]
  },
  {
   "cell_type": "code",
   "execution_count": 29,
   "metadata": {},
   "outputs": [],
   "source": [
    "#KNN algorithm Implementation"
   ]
  },
  {
   "cell_type": "code",
   "execution_count": 30,
   "metadata": {},
   "outputs": [
    {
     "data": {
      "image/png": "[encoded data removed]",
      "text/plain": [
       "<Figure size 432x288 with 1 Axes>"
      ]
     },
     "metadata": {
      "needs_background": "light"
     },
     "output_type": "display_data"
    }
   ],
   "source": [
    "#  running KNN for 0 to 40 nodes to check which gives maximum accuracy\n",
    "\n",
    "from sklearn.neighbors import KNeighborsClassifier\n",
    "\n",
    "training_accuracy = []\n",
    "test_accuracy = []\n",
    "\n",
    "# try n_neighbors from 1 to 40\n",
    "neighbors_settings = range(1, 40)\n",
    "for n_neighbors in neighbors_settings:\n",
    "    # build the model\n",
    "    knn = KNeighborsClassifier(n_neighbors=n_neighbors)\n",
    "    knn.fit(X_train, y_train)\n",
    "    # record training set accuracy\n",
    "    training_accuracy.append(knn.score(X_train, y_train))\n",
    "    # record test set accuracy\n",
    "    test_accuracy.append(knn.score(X_test, y_test))\n",
    "plt.plot(neighbors_settings, training_accuracy, label=\"training accuracy\")\n",
    "plt.plot(neighbors_settings, test_accuracy, label=\"test accuracy\")\n",
    "plt.ylabel(\"Accuracy\")\n",
    "plt.xlabel(\"n_neighbors\")\n",
    "plt.legend()\n",
    "plt.savefig('knn_compare_model')"
   ]
  },
  {
   "cell_type": "code",
   "execution_count": 31,
   "metadata": {},
   "outputs": [
    {
     "name": "stdout",
     "output_type": "stream",
     "text": [
      "Accuracy of K-NN classifier on training set: 0.76\n",
      "Accuracy of K-NN classifier on test set: 0.75\n"
     ]
    }
   ],
   "source": [
    "#  with the previous results we compute that the model gives the best results at around n=24\n",
    "#  hence we proceed with n=24\n",
    "#  n=number of neighbours\n",
    "\n",
    "knn = KNeighborsClassifier(n_neighbors=24)\n",
    "knn.fit(X_train, y_train)\n",
    "print('Accuracy of K-NN classifier on training set: {:.2f}'.format(knn.score(X_train, y_train)))\n",
    "print('Accuracy of K-NN classifier on test set: {:.2f}'.format(knn.score(X_test, y_test)))\n",
    "\n",
    "accuracy.update({'K-NN':knn.score(X_test, y_test)})\n",
    "\n"
   ]
  },
  {
   "cell_type": "code",
   "execution_count": 32,
   "metadata": {},
   "outputs": [],
   "source": [
    "#Naive Bayes Implementation"
   ]
  },
  {
   "cell_type": "code",
   "execution_count": 33,
   "metadata": {},
   "outputs": [
    {
     "name": "stdout",
     "output_type": "stream",
     "text": [
      "\n"
     ]
    },
    {
     "data": {
      "image/png": "[encoded data removed]",
      "text/plain": [
       "<Figure size 432x288 with 2 Axes>"
      ]
     },
     "metadata": {
      "needs_background": "light"
     },
     "output_type": "display_data"
    }
   ],
   "source": [
    "print()\n",
    "corr = diabetes_mod.corr()\n",
    "fig = plt.figure()\n",
    "ax = fig.add_subplot(111)\n",
    "cax = ax.matshow(corr,cmap='coolwarm', vmin=-1, vmax=1)\n",
    "fig.colorbar(cax)\n",
    "ticks = np.arange(0,len(diabetes_mod.columns),1)\n",
    "ax.set_xticks(ticks)\n",
    "plt.xticks(rotation=90)\n",
    "ax.set_yticks(ticks)\n",
    "ax.set_xticklabels(diabetes_mod.columns)\n",
    "ax.set_yticklabels(diabetes_mod.columns)\n",
    "plt.show()"
   ]
  },
  {
   "cell_type": "code",
   "execution_count": 34,
   "metadata": {},
   "outputs": [
    {
     "name": "stdout",
     "output_type": "stream",
     "text": [
      "Accuracy of naive bayes classifier on training set: 0.75\n",
      "Accuracy of naive bayes classifier on test set: 0.79\n"
     ]
    }
   ],
   "source": [
    "#  we see from the above that all the fields are almost independant of each other hance we can perform naive bayes\n",
    "from sklearn.naive_bayes import GaussianNB\n",
    "\n",
    "nb=GaussianNB()\n",
    "nb.fit(X_train, y_train)\n",
    "print('Accuracy of naive bayes classifier on training set: {:.2f}'.format(nb.score(X_train, y_train)))\n",
    "print('Accuracy of naive bayes classifier on test set: {:.2f}'.format(nb.score(X_test, y_test)))\n",
    "\n",
    "accuracy.update({'naive bayes':nb.score(X_test, y_test)})\n",
    "\n"
   ]
  },
  {
   "cell_type": "code",
   "execution_count": 35,
   "metadata": {},
   "outputs": [],
   "source": [
    "#  Random Forest Algorithm Implementation"
   ]
  },
  {
   "cell_type": "code",
   "execution_count": 36,
   "metadata": {},
   "outputs": [
    {
     "name": "stdout",
     "output_type": "stream",
     "text": [
      "Accuracy of Random Forest on training set: 1.000\n",
      "Accuracy of Random Forest on test set: 0.746\n"
     ]
    }
   ],
   "source": [
    "from sklearn.ensemble import RandomForestClassifier\n",
    "rf = RandomForestClassifier(n_estimators=100, random_state=0)\n",
    "rf.fit(X_train, y_train)\n",
    "print(\"Accuracy of Random Forest on training set: {:.3f}\".format(rf.score(X_train, y_train)))\n",
    "print(\"Accuracy of Random Forest on test set: {:.3f}\".format(rf.score(X_test, y_test)))\n",
    "\n",
    "accuracy.update({'Random Forest':rf.score(X_test, y_test)})\n",
    "\n"
   ]
  },
  {
   "cell_type": "code",
   "execution_count": 37,
   "metadata": {},
   "outputs": [],
   "source": [
    "#  we try limiting the max_features to see if we get better results"
   ]
  },
  {
   "cell_type": "code",
   "execution_count": 38,
   "metadata": {},
   "outputs": [
    {
     "name": "stdout",
     "output_type": "stream",
     "text": [
      "Accuracy of modified Random Forest on training set: 0.803\n",
      "Accuracy of modified Random Forest on test set: 0.724\n"
     ]
    }
   ],
   "source": [
    "rf1 = RandomForestClassifier(max_depth=3, n_estimators=100, random_state=0)\n",
    "rf1.fit(X_train, y_train)\n",
    "print(\"Accuracy of modified Random Forest on training set: {:.3f}\".format(rf1.score(X_train, y_train)))\n",
    "print(\"Accuracy of modified Random Forest on test set: {:.3f}\".format(rf1.score(X_test, y_test)))"
   ]
  },
  {
   "cell_type": "code",
   "execution_count": 39,
   "metadata": {},
   "outputs": [],
   "source": [
    "#  it does not give better results, hence the default parameters will be retained"
   ]
  },
  {
   "cell_type": "code",
   "execution_count": 40,
   "metadata": {},
   "outputs": [],
   "source": [
    "#  SVM Implementation"
   ]
  },
  {
   "cell_type": "code",
   "execution_count": 41,
   "metadata": {},
   "outputs": [
    {
     "name": "stdout",
     "output_type": "stream",
     "text": [
      "Accuracy of SVM on training set: 1.00\n",
      "Accuracy of SVM on test set: 0.66\n"
     ]
    }
   ],
   "source": [
    "from sklearn.svm import SVC\n",
    "svc = SVC(gamma='auto')\n",
    "svc.fit(X_train, y_train)\n",
    "print(\"Accuracy of SVM on training set: {:.2f}\".format(svc.score(X_train, y_train)))\n",
    "print(\"Accuracy of SVM on test set: {:.2f}\".format(svc.score(X_test, y_test)))\n",
    "\n"
   ]
  },
  {
   "cell_type": "code",
   "execution_count": 42,
   "metadata": {},
   "outputs": [],
   "source": [
    "#  The model overfits quite substantially, with a perfect score on the training set and only 65% accuracy on the test set.\n",
    "\n",
    "#  SVM requires all the features to vary on a similar scale. We will need to re-scale our data that all the features are \n",
    "#  approximately on the same scale:"
   ]
  },
  {
   "cell_type": "code",
   "execution_count": 43,
   "metadata": {},
   "outputs": [
    {
     "name": "stdout",
     "output_type": "stream",
     "text": [
      "Accuracy of modified SVM on training set: 0.78\n",
      "Accuracy of modified SVM on test set: 0.80\n"
     ]
    }
   ],
   "source": [
    "#  scaled data SVM\n",
    "from sklearn.preprocessing import MinMaxScaler\n",
    "scaler = MinMaxScaler()\n",
    "X_train_scaled = scaler.fit_transform(X_train.astype(float))\n",
    "X_test_scaled = scaler.fit_transform(X_test.astype(float))\n",
    "\n",
    "\n",
    "svc = SVC(gamma='auto',probability=True)\n",
    "svc.fit(X_train_scaled, y_train)\n",
    "print(\"Accuracy of modified SVM on training set: {:.2f}\".format(svc.score(X_train_scaled, y_train)))\n",
    "print(\"Accuracy of modified SVM on test set: {:.2f}\".format(svc.score(X_test_scaled, y_test)))\n",
    "\n",
    "accuracy.update({'SVM':svc.score(X_test_scaled, y_test)})\n",
    "\n",
    "\n",
    "y_pred = svc.predict(X_train)\n",
    "\n",
    "\n",
    "#print(y_pred)\n"
   ]
  },
  {
   "cell_type": "code",
   "execution_count": 44,
   "metadata": {},
   "outputs": [],
   "source": [
    "#  Scaling the data made a huge difference! Now we are actually underfitting, where training and test set performance \n",
    "#  are quite similar but less close to 100% accuracy. From here, we can try increasing either C or gamma to fit a more \n",
    "#  complex model."
   ]
  },
  {
   "cell_type": "code",
   "execution_count": 45,
   "metadata": {},
   "outputs": [
    {
     "name": "stdout",
     "output_type": "stream",
     "text": [
      "Accuracy of modified SVM on training set: 0.805\n",
      "Accuracy of modified SVM on test set: 0.751\n"
     ]
    }
   ],
   "source": [
    "svc = SVC(C=1000,gamma='auto',probability=True)\n",
    "svc.fit(X_train_scaled, y_train)\n",
    "print(\"Accuracy of modified SVM on training set: {:.3f}\".format(\n",
    "    svc.score(X_train_scaled, y_train)))\n",
    "print(\"Accuracy of modified SVM on test set: {:.3f}\".format(svc.score(X_test_scaled, y_test)))"
   ]
  },
  {
   "cell_type": "code",
   "execution_count": 46,
   "metadata": {},
   "outputs": [],
   "source": [
    "#  Here, increasing C gave us worse reults hence we do not to underfit the data"
   ]
  },
  {
   "cell_type": "code",
   "execution_count": 47,
   "metadata": {},
   "outputs": [
    {
     "name": "stdout",
     "output_type": "stream",
     "text": [
      "Accuracy of various Algorithms:  {'K-NN': 0.7513812154696132, 'naive bayes': 0.7900552486187845, 'Random Forest': 0.7458563535911602, 'SVM': 0.7955801104972375}\n"
     ]
    }
   ],
   "source": [
    "print('Accuracy of various Algorithms: ',accuracy)"
   ]
  },
  {
   "cell_type": "code",
   "execution_count": 48,
   "metadata": {},
   "outputs": [
    {
     "data": {
      "text/plain": [
       "<function matplotlib.pyplot.show(*args, **kw)>"
      ]
     },
     "execution_count": 48,
     "metadata": {},
     "output_type": "execute_result"
    },
    {
     "data": {
      "image/png": "[encoded data removed]",
      "text/plain": [
       "<Figure size 432x288 with 1 Axes>"
      ]
     },
     "metadata": {
      "needs_background": "light"
     },
     "output_type": "display_data"
    }
   ],
   "source": [
    "plt.bar(range(len(accuracy)), list(accuracy.values()), align='center')\n",
    "plt.xticks(range(len(accuracy)), list(accuracy.keys()))\n",
    "plt.show"
   ]
  },
  {
   "cell_type": "code",
   "execution_count": 49,
   "metadata": {},
   "outputs": [],
   "source": [
    "#  from the above analysis of models we realize that SVM gives us the best results"
   ]
  },
  {
   "cell_type": "code",
   "execution_count": 50,
   "metadata": {},
   "outputs": [],
   "source": [
    "#  Phase 4— Relation of various Features\n"
   ]
  },
  {
   "cell_type": "code",
   "execution_count": 51,
   "metadata": {},
   "outputs": [],
   "source": [
    "#  from the above diagram we see that glucose level, BMI, Pregnancies, Age and Diabetes Pedigree Function have the maximum \n",
    "#  impact on the prediction."
   ]
  },
  {
   "cell_type": "code",
   "execution_count": 52,
   "metadata": {},
   "outputs": [],
   "source": [
    "#  Phase 5— testing different SVM kernel functions\n"
   ]
  },
  {
   "cell_type": "code",
   "execution_count": 53,
   "metadata": {},
   "outputs": [
    {
     "name": "stdout",
     "output_type": "stream",
     "text": [
      "Polynomial kernel:\n",
      "Accuracy on training set: 0.66\n",
      "Accuracy on test set: 0.66\n",
      "\n",
      "Gaussian radial basis function:\n",
      "Accuracy on training set: 0.78\n",
      "Accuracy on test set: 0.80\n",
      "\n",
      "Sigmoid kernel:\n",
      "Accuracy on training set: 0.77\n",
      "Accuracy on test set: 0.75\n",
      "\n",
      "Linear kernel:\n",
      "Accuracy on training set: 0.78\n",
      "Accuracy on test set: 0.75\n"
     ]
    }
   ],
   "source": [
    "print('Polynomial kernel:')\n",
    "svc2 = SVC(kernel='poly', degree=3, gamma='auto')  \n",
    "\n",
    "svc2.fit(X_train_scaled, y_train)\n",
    "print(\"Accuracy on training set: {:.2f}\".format(svc2.score(X_train_scaled, y_train)))\n",
    "print(\"Accuracy on test set: {:.2f}\".format(svc2.score(X_test_scaled, y_test)))\n",
    "\n",
    "print('\\nGaussian radial basis function:')\n",
    "svc2 = SVC(kernel='rbf', gamma='auto')  \n",
    "\n",
    "svc2.fit(X_train_scaled, y_train)\n",
    "print(\"Accuracy on training set: {:.2f}\".format(svc2.score(X_train_scaled, y_train)))\n",
    "print(\"Accuracy on test set: {:.2f}\".format(svc2.score(X_test_scaled, y_test)))\n",
    "\n",
    "print('\\nSigmoid kernel:')\n",
    "svc2 = SVC(kernel='sigmoid', gamma='auto')  \n",
    "\n",
    "svc2.fit(X_train_scaled, y_train)\n",
    "print(\"Accuracy on training set: {:.2f}\".format(svc2.score(X_train_scaled, y_train)))\n",
    "print(\"Accuracy on test set: {:.2f}\".format(svc2.score(X_test_scaled, y_test)))\n",
    "\n",
    "print('\\nLinear kernel:')\n",
    "svc2 = SVC(kernel='linear', gamma='auto')  \n",
    "\n",
    "svc2.fit(X_train_scaled, y_train)\n",
    "print(\"Accuracy on training set: {:.2f}\".format(svc2.score(X_train_scaled, y_train)))\n",
    "print(\"Accuracy on test set: {:.2f}\".format(svc2.score(X_test_scaled, y_test)))"
   ]
  },
  {
   "cell_type": "code",
   "execution_count": 54,
   "metadata": {},
   "outputs": [],
   "source": [
    "#  hence we conclude that Gaussian radial basis function gives us the best accuracy\n",
    "#  and we proceed with that model"
   ]
  },
  {
   "cell_type": "code",
   "execution_count": 55,
   "metadata": {},
   "outputs": [],
   "source": [
    "#  Phase 6— Actual Prediction\n"
   ]
  },
  {
   "cell_type": "code",
   "execution_count": 60,
   "metadata": {},
   "outputs": [
    {
     "data": {
      "text/plain": [
       "SVC(C=1.0, cache_size=200, class_weight=None, coef0=0.0,\n",
       "  decision_function_shape='ovr', degree=3, gamma='auto', kernel='rbf',\n",
       "  max_iter=-1, probability=True, random_state=None, shrinking=True,\n",
       "  tol=0.001, verbose=False)"
      ]
     },
     "execution_count": 60,
     "metadata": {},
     "output_type": "execute_result"
    }
   ],
   "source": [
    "scaler = MinMaxScaler()\n",
    "X_train_scaled = scaler.fit_transform(X_train.astype(float))\n",
    "X_test_scaled = scaler.fit_transform(X_test.astype(float))\n",
    "svc = SVC(gamma='auto', probability=True)\n",
    "svc.fit(X_train_scaled, y_train)\n",
    "#print(\"Accuracy on training set: {:.2f}\".format(svc.score(X_train_scaled, y_train)))\n",
    "#print(\"Accuracy on test set: {:.2f}\".format(svc.score(X_test_scaled, y_test)))"
   ]
  },
  {
   "cell_type": "code",
   "execution_count": 57,
   "metadata": {},
   "outputs": [
    {
     "name": "stdout",
     "output_type": "stream",
     "text": [
      "Confusion Matrix:  \n",
      "\t\tActual values\n",
      "\t\t 1\t 0\n",
      "pred\t1\t 39 \t 14\n",
      "icted\t0\t 23 \t 105\n",
      "\n",
      "Accuracy:  0.7955801104972375\n",
      "Misclassification:  0.20441988950276246\n",
      "Sensitivity:  0.6290322580645161\n",
      "Specificity:  0.8823529411764706\n",
      "Precision:  0.7358490566037735\n",
      "Recall:  0.6290322580645161\n",
      "Fscore:  0.6782608695652174\n"
     ]
    }
   ],
   "source": [
    "y_pred = svc.predict(X_test_scaled)\n",
    "\n",
    "y_pred_list=list(y_pred)\n",
    "y_train_test=list(y_test)\n",
    "\n",
    "tp=0\n",
    "tn=0\n",
    "fp=0\n",
    "fn=0\n",
    "\n",
    "for x in range(0,len(y_pred)):\n",
    "    if y_pred_list[x]==1 and y_train_test[x]==1:\n",
    "        tp = tp + 1\n",
    "    if y_pred_list[x]==0 and y_train_test[x]==0:\n",
    "        tn = tn + 1\n",
    "    if y_pred_list[x]==1 and y_train_test[x]==0:\n",
    "        fp = fp + 1\n",
    "    if y_pred_list[x]==0 and y_train_test[x]==1:\n",
    "        fn = fn + 1\n",
    "\n",
    "print('Confusion Matrix:  ')\n",
    "print('\\t\\tActual values')\n",
    "print('\\t\\t 1\\t 0')\n",
    "print('pred\\t1\\t',tp,'\\t',fp)\n",
    "print('icted\\t0\\t',fn,'\\t',tn)\n",
    "\n",
    "acc=(tp+tn)/(tp+fp+tn+fn)\n",
    "print('\\nAccuracy: ',acc)\n",
    "print('Misclassification: ',1-acc)\n",
    "print('Sensitivity: ',tp/(tp+fn))\n",
    "print('Specificity: ',tn/(fp+tn))\n",
    "prec = tp/(tp+fp)\n",
    "print('Precision: ',prec)\n",
    "recall = tp/(tp+fn)\n",
    "print('Recall: ',recall)\n",
    "print('Fscore: ',2*prec*recall/(prec+recall))\n",
    "#print(list(X_train_scaled))"
   ]
  },
  {
   "cell_type": "code",
   "execution_count": 58,
   "metadata": {},
   "outputs": [
    {
     "name": "stdout",
     "output_type": "stream",
     "text": [
      "Pregnancies: 1\n",
      "Glucose: 23\n",
      "Blood Pressure: 190\n",
      "Skin Thickness: 43\n",
      "Insulin: 9\n",
      "BMI: 34\n",
      "DPF: 0.056\n",
      "Age: 50\n",
      "\n",
      "Predicted Outcome is: \n",
      "Diabetes Not Predicted\n"
     ]
    }
   ],
   "source": [
    "p=int(input('Pregnancies: '))\n",
    "g=int(input('Glucose: '))\n",
    "bp=int(input('Blood Pressure: '))\n",
    "st=int(input('Skin Thickness: '))\n",
    "i=int(input('Insulin: '))\n",
    "bmi=float(input('BMI: '))\n",
    "dpf=float(input('DPF: '))\n",
    "a=int(input('Age: '))\n",
    "\n",
    "li=[p,g,bp,st,i,bmi,dpf,a]\n",
    "\n",
    "X_test_temp = X_test\n",
    "\n",
    "\n",
    "linp=np.asarray(li)\n",
    "\n",
    "X_test_temp = np.vstack([X_test_temp,linp])\n",
    "\n",
    "#print(X_test_temp)\n",
    "\n",
    "X_test_scaled_temp = scaler.fit_transform(X_test_temp.astype(float))\n",
    "\n",
    "\n",
    "y_pred_temp = svc.predict(X_test_scaled_temp)\n",
    "\n",
    "y_pred_list_temp=list(y_pred_temp)\n",
    "\n",
    "\n",
    "print('\\nPredicted Outcome is: ')\n",
    "\n",
    "if y_pred_list_temp[-1]==1:\n",
    "    print('Diabetes Predicted')\n",
    "else:\n",
    "    print('Diabetes Not Predicted')\n",
    "#print(y_pred_list_temp[-1])\n",
    "\n",
    "\n"
   ]
  },
  {
   "cell_type": "code",
   "execution_count": 61,
   "metadata": {
    "scrolled": true
   },
   "outputs": [
    {
     "data": {
      "image/png": "[encoded data removed]",
      "text/plain": [
       "<Figure size 432x288 with 1 Axes>"
      ]
     },
     "metadata": {
      "needs_background": "light"
     },
     "output_type": "display_data"
    }
   ],
   "source": [
    "# Comparitive study of all models\n",
    "\n",
    "import sklearn.metrics as metrics\n",
    "\n",
    "# calculate the fpr and tpr for all thresholds of the classification\n",
    "probs = svc.predict_proba(X_test_scaled)\n",
    "preds = probs[:,1]\n",
    "fpr, tpr, threshold = metrics.roc_curve(y_test, preds)\n",
    "roc_auc = metrics.auc(fpr, tpr)\n",
    "\n",
    "\n",
    "probs2 = knn.predict_proba(X_test)\n",
    "preds2 = probs2[:,1]\n",
    "fpr2, tpr2, threshold2 = metrics.roc_curve(y_test, preds2)\n",
    "roc_auc2 = metrics.auc(fpr2, tpr2)\n",
    "\n",
    "probs3 = rf1.predict_proba(X_test)\n",
    "preds3 = probs3[:,1]\n",
    "fpr3, tpr3, threshold3 = metrics.roc_curve(y_test, preds3)\n",
    "roc_auc3 = metrics.auc(fpr3, tpr3)\n",
    "\n",
    "probs4 = nb.predict_proba(X_test)\n",
    "preds4 = probs4[:,1]\n",
    "fpr4, tpr4, threshold4 = metrics.roc_curve(y_test, preds3)\n",
    "roc_auc4 = metrics.auc(fpr4, tpr4)\n",
    "\n",
    "\n",
    "import matplotlib.pyplot as plt\n",
    "plt.title('Receiver Operating Characteristic')\n",
    "\n",
    "plt.plot(fpr2, tpr2, 'r', label = 'KNN')\n",
    "plt.plot(fpr3, tpr3, 'g', label = 'Random Forest')\n",
    "plt.plot(fpr4, tpr4, 'y', label = 'Naive Bayes')\n",
    "plt.plot(fpr, tpr, 'b', label = 'SVM')\n",
    "\n",
    "\n",
    "\n",
    "\n",
    "\n",
    "\n",
    "plt.legend(loc = 'lower right')\n",
    "plt.plot([0, 1], [0, 1],'r--')\n",
    "plt.xlim([0, 1])\n",
    "plt.ylim([0, 1])\n",
    "plt.ylabel('True Positive Rate')\n",
    "plt.xlabel('False Positive Rate')\n",
    "plt.show()"
   ]
  },
  {
   "cell_type": "code",
   "execution_count": null,
   "metadata": {},
   "outputs": [],
   "source": []
  }
 ],
 "metadata": {
  "kernelspec": {
   "display_name": "Python 3",
   "language": "python",
   "name": "python3"
  },
  "language_info": {
   "codemirror_mode": {
    "name": "ipython",
    "version": 3
   },
   "file_extension": ".py",
   "mimetype": "text/x-python",
   "name": "python",
   "nbconvert_exporter": "python",
   "pygments_lexer": "ipython3",
   "version": "3.7.1"
  }
 },
 "nbformat": 4,
 "nbformat_minor": 2
}
